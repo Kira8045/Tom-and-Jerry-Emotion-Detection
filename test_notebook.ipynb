{
 "nbformat": 4,
 "nbformat_minor": 2,
 "metadata": {
  "language_info": {
   "name": "python",
   "codemirror_mode": {
    "name": "ipython",
    "version": 3
   },
   "version": "3.7.4-final"
  },
  "orig_nbformat": 2,
  "file_extension": ".py",
  "mimetype": "text/x-python",
  "name": "python",
  "npconvert_exporter": "python",
  "pygments_lexer": "ipython3",
  "version": 3,
  "kernelspec": {
   "name": "python37464bit17c9c532dc9841438207c81d79733dd1",
   "display_name": "Python 3.7.4 64-bit"
  }
 },
 "cells": [
  {
   "cell_type": "code",
   "execution_count": 1,
   "metadata": {},
   "outputs": [],
   "source": [
    "import pandas as pd\n",
    "import cv2\n",
    "import numpy as np\n",
    "import torch\n",
    "import albumentations\n",
    "import matplotlib.pyplot as plt\n",
    "import glob\n",
    "import math\n",
    "from PIL import Image as Image\n",
    "import torchvision\n",
    "from torchvision import transforms\n",
    "import sklearn.metrics\n",
    "from sklearn.model_selection import StratifiedKFold\n",
    "import torch.nn as nn\n",
    "import torch.nn.functional as FT\n",
    "import torch.optim as optim\n",
    "from torch.optim import lr_scheduler\n",
    "import matplotlib.pyplot as plt\n",
    "%matplotlib inline\n",
    "from tqdm import tqdm as tqdm\n",
    "from albumentations.core.transforms_interface import ImageOnlyTransform\n",
    "from albumentations.augmentations import functional as F\n",
    "import albumentations as A\n",
    "device = torch.device(\"cuda\")\n",
    "import time\n",
    "import random"
   ]
  },
  {
   "cell_type": "code",
   "execution_count": 6,
   "metadata": {},
   "outputs": [],
   "source": [
    "from efficientnet_pytorch import EfficientNet\n",
    "import torchvision.models as models\n",
    "\n",
    "sigmoid = nn.Sigmoid()\n",
    "class Swish(torch.autograd.Function):\n",
    "    @staticmethod\n",
    "    def forward(ctx, i):\n",
    "        result = i * sigmoid(i)\n",
    "        ctx.save_for_backward(i)\n",
    "        return result\n",
    "    \n",
    "    def backward(ctx, grad_output):\n",
    "        i = ctx.saved_variables[0]\n",
    "        sigmoid_i = sigmoid(i)\n",
    "        return grad_output * (sigmoid_i + i*(1 - sigmoid_i))\n",
    "swish = Swish.apply\n",
    "class Swish_module(nn.Module):\n",
    "    def forward(self, x):\n",
    "        return swish(x)\n",
    "    \n",
    "swish_layer = Swish_module()\n",
    "\n",
    "def relu_fn(x):\n",
    "    return swish_layer(x)\n",
    "\n",
    "class GlobalAvgPool(nn.Module):\n",
    "        def __init__(self):\n",
    "            super(GlobalAvgPool, self).__init__()\n",
    "        def forward(self, x):\n",
    "            return x.view(*(x.shape[:-2]),-1).mean(-1)\n",
    "\n",
    "\n",
    "class Seq_Ex_Block(nn.Module):\n",
    "        def __init__(self, in_ch, r):\n",
    "            super(Seq_Ex_Block, self).__init__()\n",
    "            self.se = nn.Sequential(\n",
    "                GlobalAvgPool(),\n",
    "                nn.Linear(in_ch, in_ch//r),\n",
    "                nn.ReLU(inplace=True),\n",
    "                nn.Linear(in_ch//r, in_ch),\n",
    "                nn.Sigmoid()\n",
    "            )\n",
    "\n",
    "        def forward(self, x):\n",
    "            se_weight = self.se(x).unsqueeze(-1).unsqueeze(-1)\n",
    "            #print(f'x:{x.sum()}, x_se:{x.mul(se_weight).sum()}')\n",
    "            return x.mul(se_weight)\n",
    "\n",
    "class Flatten(nn.Module):\n",
    "    def forward(self, input):\n",
    "        return input.view(input.size(0), -1)\n",
    "      \n",
    "class ClassifierNew(nn.Module):\n",
    "    def __init__(self, inp = 2208, h1=1024, out = 102, d=0.35):\n",
    "        super().__init__()\n",
    "        self.ap = nn.AdaptiveAvgPool2d((1,1))\n",
    "        self.mp = nn.AdaptiveMaxPool2d((1,1))\n",
    "        self.fla = Flatten()\n",
    "        self.bn0 = nn.BatchNorm1d(inp*2,eps=1e-05, momentum=0.1, affine=True)\n",
    "        self.dropout0 = nn.Dropout(d)\n",
    "        self.fc1 = nn.Linear(inp*2, h1)\n",
    "        self.bn1 = nn.BatchNorm1d(h1,eps=1e-05, momentum=0.1, affine=True)\n",
    "        self.dropout1 = nn.Dropout(d)\n",
    "        self.fc2 = nn.Linear(h1, out)\n",
    "        self.activation = nn.Softmax()\n",
    "        \n",
    "    def forward(self, x):\n",
    "        ap = self.ap(x)\n",
    "        mp = self.mp(x)\n",
    "        x = torch.cat((ap,mp),dim=1)\n",
    "        x = self.fla(x)\n",
    "        x = self.bn0(x)\n",
    "        x = self.dropout0(x)\n",
    "        x = FT.relu(self.fc1(x))\n",
    "        x = self.bn1(x)\n",
    "        x = self.dropout1(x)         \n",
    "        x = self.fc2(x)\n",
    "        x = self.activation(x)\n",
    "        return x\n",
    "class EfficientNet_NeuralNet(nn.Module):\n",
    "    def __init__(self, pretrained = True, Freeze_base = False, layers_freeze = None):\n",
    "        super(EfficientNet_NeuralNet, self).__init__()\n",
    "        \n",
    "        self.cnn = EfficientNet.from_pretrained('efficientnet-b7')\n",
    "        self.cnn._avg_pooling = nn.Identity()\n",
    "        self.cnn._dropout = nn.Identity()\n",
    "        self.cnn._swish = nn.Identity()\n",
    "        if Freeze_base:\n",
    "            if layers_freeze == None:\n",
    "                for p in self.cnn.parameters():\n",
    "                    p.requires_grad = False\n",
    "            else:\n",
    "                c = 0\n",
    "                for p in self.cnn.parameters():\n",
    "                    c+=1\n",
    "                    if c < layers_freeze:\n",
    "                        p.requires_grad = False\n",
    "                    else:\n",
    "                        p.requires_grad = True\n",
    "        self.fc = ClassifierNew(2560, 1024, 4, 0.35)\n",
    "        self.cnn._fc = nn.Identity()\n",
    "    def forward(self, input):\n",
    "        x = self.cnn.extract_features(input)\n",
    "        x = self.fc(x)\n",
    "        return x"
   ]
  },
  {
   "cell_type": "code",
   "execution_count": 15,
   "metadata": {},
   "outputs": [
    {
     "name": "stdout",
     "output_type": "stream",
     "text": "Loaded pretrained weights for efficientnet-b7\n"
    }
   ],
   "source": [
    "model = EfficientNet_NeuralNet(True, True, 600).to(device)"
   ]
  },
  {
   "cell_type": "code",
   "execution_count": 16,
   "metadata": {},
   "outputs": [
    {
     "name": "stdout",
     "output_type": "stream",
     "text": "MemoryEfficientSwish-645             [-1, 56, 1, 1]               0\n        Identity-646             [-1, 56, 1, 1]               0\nConv2dStaticSamePadding-647           [-1, 1344, 1, 1]          76,608\n        Identity-648           [-1, 1344, 7, 7]               0\nConv2dStaticSamePadding-649            [-1, 384, 7, 7]         516,096\n     BatchNorm2d-650            [-1, 384, 7, 7]             768\n     MBConvBlock-651            [-1, 384, 7, 7]               0\n        Identity-652            [-1, 384, 7, 7]               0\nConv2dStaticSamePadding-653           [-1, 2304, 7, 7]         884,736\n     BatchNorm2d-654           [-1, 2304, 7, 7]           4,608\nMemoryEfficientSwish-655           [-1, 2304, 7, 7]               0\n       ZeroPad2d-656         [-1, 2304, 11, 11]               0\nConv2dStaticSamePadding-657           [-1, 2304, 7, 7]          57,600\n     BatchNorm2d-658           [-1, 2304, 7, 7]           4,608\nMemoryEfficientSwish-659           [-1, 2304, 7, 7]               0\n        Identity-660           [-1, 2304, 1, 1]               0\nConv2dStaticSamePadding-661             [-1, 96, 1, 1]         221,280\nMemoryEfficientSwish-662             [-1, 96, 1, 1]               0\n        Identity-663             [-1, 96, 1, 1]               0\nConv2dStaticSamePadding-664           [-1, 2304, 1, 1]         223,488\n        Identity-665           [-1, 2304, 7, 7]               0\nConv2dStaticSamePadding-666            [-1, 384, 7, 7]         884,736\n     BatchNorm2d-667            [-1, 384, 7, 7]             768\n     MBConvBlock-668            [-1, 384, 7, 7]               0\n        Identity-669            [-1, 384, 7, 7]               0\nConv2dStaticSamePadding-670           [-1, 2304, 7, 7]         884,736\n     BatchNorm2d-671           [-1, 2304, 7, 7]           4,608\nMemoryEfficientSwish-672           [-1, 2304, 7, 7]               0\n       ZeroPad2d-673         [-1, 2304, 11, 11]               0\nConv2dStaticSamePadding-674           [-1, 2304, 7, 7]          57,600\n     BatchNorm2d-675           [-1, 2304, 7, 7]           4,608\nMemoryEfficientSwish-676           [-1, 2304, 7, 7]               0\n        Identity-677           [-1, 2304, 1, 1]               0\nConv2dStaticSamePadding-678             [-1, 96, 1, 1]         221,280\nMemoryEfficientSwish-679             [-1, 96, 1, 1]               0\n        Identity-680             [-1, 96, 1, 1]               0\nConv2dStaticSamePadding-681           [-1, 2304, 1, 1]         223,488\n        Identity-682           [-1, 2304, 7, 7]               0\nConv2dStaticSamePadding-683            [-1, 384, 7, 7]         884,736\n     BatchNorm2d-684            [-1, 384, 7, 7]             768\n     MBConvBlock-685            [-1, 384, 7, 7]               0\n        Identity-686            [-1, 384, 7, 7]               0\nConv2dStaticSamePadding-687           [-1, 2304, 7, 7]         884,736\n     BatchNorm2d-688           [-1, 2304, 7, 7]           4,608\nMemoryEfficientSwish-689           [-1, 2304, 7, 7]               0\n       ZeroPad2d-690         [-1, 2304, 11, 11]               0\nConv2dStaticSamePadding-691           [-1, 2304, 7, 7]          57,600\n     BatchNorm2d-692           [-1, 2304, 7, 7]           4,608\nMemoryEfficientSwish-693           [-1, 2304, 7, 7]               0\n        Identity-694           [-1, 2304, 1, 1]               0\nConv2dStaticSamePadding-695             [-1, 96, 1, 1]         221,280\nMemoryEfficientSwish-696             [-1, 96, 1, 1]               0\n        Identity-697             [-1, 96, 1, 1]               0\nConv2dStaticSamePadding-698           [-1, 2304, 1, 1]         223,488\n        Identity-699           [-1, 2304, 7, 7]               0\nConv2dStaticSamePadding-700            [-1, 384, 7, 7]         884,736\n     BatchNorm2d-701            [-1, 384, 7, 7]             768\n     MBConvBlock-702            [-1, 384, 7, 7]               0\n        Identity-703            [-1, 384, 7, 7]               0\nConv2dStaticSamePadding-704           [-1, 2304, 7, 7]         884,736\n     BatchNorm2d-705           [-1, 2304, 7, 7]           4,608\nMemoryEfficientSwish-706           [-1, 2304, 7, 7]               0\n       ZeroPad2d-707         [-1, 2304, 11, 11]               0\nConv2dStaticSamePadding-708           [-1, 2304, 7, 7]          57,600\n     BatchNorm2d-709           [-1, 2304, 7, 7]           4,608\nMemoryEfficientSwish-710           [-1, 2304, 7, 7]               0\n        Identity-711           [-1, 2304, 1, 1]               0\nConv2dStaticSamePadding-712             [-1, 96, 1, 1]         221,280\nMemoryEfficientSwish-713             [-1, 96, 1, 1]               0\n        Identity-714             [-1, 96, 1, 1]               0\nConv2dStaticSamePadding-715           [-1, 2304, 1, 1]         223,488\n        Identity-716           [-1, 2304, 7, 7]               0\nConv2dStaticSamePadding-717            [-1, 384, 7, 7]         884,736\n     BatchNorm2d-718            [-1, 384, 7, 7]             768\n     MBConvBlock-719            [-1, 384, 7, 7]               0\n        Identity-720            [-1, 384, 7, 7]               0\nConv2dStaticSamePadding-721           [-1, 2304, 7, 7]         884,736\n     BatchNorm2d-722           [-1, 2304, 7, 7]           4,608\nMemoryEfficientSwish-723           [-1, 2304, 7, 7]               0\n       ZeroPad2d-724         [-1, 2304, 11, 11]               0\nConv2dStaticSamePadding-725           [-1, 2304, 7, 7]          57,600\n     BatchNorm2d-726           [-1, 2304, 7, 7]           4,608\nMemoryEfficientSwish-727           [-1, 2304, 7, 7]               0\n        Identity-728           [-1, 2304, 1, 1]               0\nConv2dStaticSamePadding-729             [-1, 96, 1, 1]         221,280\nMemoryEfficientSwish-730             [-1, 96, 1, 1]               0\n        Identity-731             [-1, 96, 1, 1]               0\nConv2dStaticSamePadding-732           [-1, 2304, 1, 1]         223,488\n        Identity-733           [-1, 2304, 7, 7]               0\nConv2dStaticSamePadding-734            [-1, 384, 7, 7]         884,736\n     BatchNorm2d-735            [-1, 384, 7, 7]             768\n     MBConvBlock-736            [-1, 384, 7, 7]               0\n        Identity-737            [-1, 384, 7, 7]               0\nConv2dStaticSamePadding-738           [-1, 2304, 7, 7]         884,736\n     BatchNorm2d-739           [-1, 2304, 7, 7]           4,608\nMemoryEfficientSwish-740           [-1, 2304, 7, 7]               0\n       ZeroPad2d-741         [-1, 2304, 11, 11]               0\nConv2dStaticSamePadding-742           [-1, 2304, 7, 7]          57,600\n     BatchNorm2d-743           [-1, 2304, 7, 7]           4,608\nMemoryEfficientSwish-744           [-1, 2304, 7, 7]               0\n        Identity-745           [-1, 2304, 1, 1]               0\nConv2dStaticSamePadding-746             [-1, 96, 1, 1]         221,280\nMemoryEfficientSwish-747             [-1, 96, 1, 1]               0\n        Identity-748             [-1, 96, 1, 1]               0\nConv2dStaticSamePadding-749           [-1, 2304, 1, 1]         223,488\n        Identity-750           [-1, 2304, 7, 7]               0\nConv2dStaticSamePadding-751            [-1, 384, 7, 7]         884,736\n     BatchNorm2d-752            [-1, 384, 7, 7]             768\n     MBConvBlock-753            [-1, 384, 7, 7]               0\n        Identity-754            [-1, 384, 7, 7]               0\nConv2dStaticSamePadding-755           [-1, 2304, 7, 7]         884,736\n     BatchNorm2d-756           [-1, 2304, 7, 7]           4,608\nMemoryEfficientSwish-757           [-1, 2304, 7, 7]               0\n       ZeroPad2d-758         [-1, 2304, 11, 11]               0\nConv2dStaticSamePadding-759           [-1, 2304, 7, 7]          57,600\n     BatchNorm2d-760           [-1, 2304, 7, 7]           4,608\nMemoryEfficientSwish-761           [-1, 2304, 7, 7]               0\n        Identity-762           [-1, 2304, 1, 1]               0\nConv2dStaticSamePadding-763             [-1, 96, 1, 1]         221,280\nMemoryEfficientSwish-764             [-1, 96, 1, 1]               0\n        Identity-765             [-1, 96, 1, 1]               0\nConv2dStaticSamePadding-766           [-1, 2304, 1, 1]         223,488\n        Identity-767           [-1, 2304, 7, 7]               0\nConv2dStaticSamePadding-768            [-1, 384, 7, 7]         884,736\n     BatchNorm2d-769            [-1, 384, 7, 7]             768\n     MBConvBlock-770            [-1, 384, 7, 7]               0\n        Identity-771            [-1, 384, 7, 7]               0\nConv2dStaticSamePadding-772           [-1, 2304, 7, 7]         884,736\n     BatchNorm2d-773           [-1, 2304, 7, 7]           4,608\nMemoryEfficientSwish-774           [-1, 2304, 7, 7]               0\n       ZeroPad2d-775         [-1, 2304, 11, 11]               0\nConv2dStaticSamePadding-776           [-1, 2304, 7, 7]          57,600\n     BatchNorm2d-777           [-1, 2304, 7, 7]           4,608\nMemoryEfficientSwish-778           [-1, 2304, 7, 7]               0\n        Identity-779           [-1, 2304, 1, 1]               0\nConv2dStaticSamePadding-780             [-1, 96, 1, 1]         221,280\nMemoryEfficientSwish-781             [-1, 96, 1, 1]               0\n        Identity-782             [-1, 96, 1, 1]               0\nConv2dStaticSamePadding-783           [-1, 2304, 1, 1]         223,488\n        Identity-784           [-1, 2304, 7, 7]               0\nConv2dStaticSamePadding-785            [-1, 384, 7, 7]         884,736\n     BatchNorm2d-786            [-1, 384, 7, 7]             768\n     MBConvBlock-787            [-1, 384, 7, 7]               0\n        Identity-788            [-1, 384, 7, 7]               0\nConv2dStaticSamePadding-789           [-1, 2304, 7, 7]         884,736\n     BatchNorm2d-790           [-1, 2304, 7, 7]           4,608\nMemoryEfficientSwish-791           [-1, 2304, 7, 7]               0\n       ZeroPad2d-792         [-1, 2304, 11, 11]               0\nConv2dStaticSamePadding-793           [-1, 2304, 7, 7]          57,600\n     BatchNorm2d-794           [-1, 2304, 7, 7]           4,608\nMemoryEfficientSwish-795           [-1, 2304, 7, 7]               0\n        Identity-796           [-1, 2304, 1, 1]               0\nConv2dStaticSamePadding-797             [-1, 96, 1, 1]         221,280\nMemoryEfficientSwish-798             [-1, 96, 1, 1]               0\n        Identity-799             [-1, 96, 1, 1]               0\nConv2dStaticSamePadding-800           [-1, 2304, 1, 1]         223,488\n        Identity-801           [-1, 2304, 7, 7]               0\nConv2dStaticSamePadding-802            [-1, 384, 7, 7]         884,736\n     BatchNorm2d-803            [-1, 384, 7, 7]             768\n     MBConvBlock-804            [-1, 384, 7, 7]               0\n        Identity-805            [-1, 384, 7, 7]               0\nConv2dStaticSamePadding-806           [-1, 2304, 7, 7]         884,736\n     BatchNorm2d-807           [-1, 2304, 7, 7]           4,608\nMemoryEfficientSwish-808           [-1, 2304, 7, 7]               0\n       ZeroPad2d-809         [-1, 2304, 11, 11]               0\nConv2dStaticSamePadding-810           [-1, 2304, 7, 7]          57,600\n     BatchNorm2d-811           [-1, 2304, 7, 7]           4,608\nMemoryEfficientSwish-812           [-1, 2304, 7, 7]               0\n        Identity-813           [-1, 2304, 1, 1]               0\nConv2dStaticSamePadding-814             [-1, 96, 1, 1]         221,280\nMemoryEfficientSwish-815             [-1, 96, 1, 1]               0\n        Identity-816             [-1, 96, 1, 1]               0\nConv2dStaticSamePadding-817           [-1, 2304, 1, 1]         223,488\n        Identity-818           [-1, 2304, 7, 7]               0\nConv2dStaticSamePadding-819            [-1, 384, 7, 7]         884,736\n     BatchNorm2d-820            [-1, 384, 7, 7]             768\n     MBConvBlock-821            [-1, 384, 7, 7]               0\n        Identity-822            [-1, 384, 7, 7]               0\nConv2dStaticSamePadding-823           [-1, 2304, 7, 7]         884,736\n     BatchNorm2d-824           [-1, 2304, 7, 7]           4,608\nMemoryEfficientSwish-825           [-1, 2304, 7, 7]               0\n       ZeroPad2d-826         [-1, 2304, 11, 11]               0\nConv2dStaticSamePadding-827           [-1, 2304, 7, 7]          57,600\n     BatchNorm2d-828           [-1, 2304, 7, 7]           4,608\nMemoryEfficientSwish-829           [-1, 2304, 7, 7]               0\n        Identity-830           [-1, 2304, 1, 1]               0\nConv2dStaticSamePadding-831             [-1, 96, 1, 1]         221,280\nMemoryEfficientSwish-832             [-1, 96, 1, 1]               0\n        Identity-833             [-1, 96, 1, 1]               0\nConv2dStaticSamePadding-834           [-1, 2304, 1, 1]         223,488\n        Identity-835           [-1, 2304, 7, 7]               0\nConv2dStaticSamePadding-836            [-1, 384, 7, 7]         884,736\n     BatchNorm2d-837            [-1, 384, 7, 7]             768\n     MBConvBlock-838            [-1, 384, 7, 7]               0\n        Identity-839            [-1, 384, 7, 7]               0\nConv2dStaticSamePadding-840           [-1, 2304, 7, 7]         884,736\n     BatchNorm2d-841           [-1, 2304, 7, 7]           4,608\nMemoryEfficientSwish-842           [-1, 2304, 7, 7]               0\n       ZeroPad2d-843         [-1, 2304, 11, 11]               0\nConv2dStaticSamePadding-844           [-1, 2304, 7, 7]          57,600\n     BatchNorm2d-845           [-1, 2304, 7, 7]           4,608\nMemoryEfficientSwish-846           [-1, 2304, 7, 7]               0\n        Identity-847           [-1, 2304, 1, 1]               0\nConv2dStaticSamePadding-848             [-1, 96, 1, 1]         221,280\nMemoryEfficientSwish-849             [-1, 96, 1, 1]               0\n        Identity-850             [-1, 96, 1, 1]               0\nConv2dStaticSamePadding-851           [-1, 2304, 1, 1]         223,488\n        Identity-852           [-1, 2304, 7, 7]               0\nConv2dStaticSamePadding-853            [-1, 384, 7, 7]         884,736\n     BatchNorm2d-854            [-1, 384, 7, 7]             768\n     MBConvBlock-855            [-1, 384, 7, 7]               0\n        Identity-856            [-1, 384, 7, 7]               0\nConv2dStaticSamePadding-857           [-1, 2304, 7, 7]         884,736\n     BatchNorm2d-858           [-1, 2304, 7, 7]           4,608\nMemoryEfficientSwish-859           [-1, 2304, 7, 7]               0\n       ZeroPad2d-860           [-1, 2304, 9, 9]               0\nConv2dStaticSamePadding-861           [-1, 2304, 7, 7]          20,736\n     BatchNorm2d-862           [-1, 2304, 7, 7]           4,608\nMemoryEfficientSwish-863           [-1, 2304, 7, 7]               0\n        Identity-864           [-1, 2304, 1, 1]               0\nConv2dStaticSamePadding-865             [-1, 96, 1, 1]         221,280\nMemoryEfficientSwish-866             [-1, 96, 1, 1]               0\n        Identity-867             [-1, 96, 1, 1]               0\nConv2dStaticSamePadding-868           [-1, 2304, 1, 1]         223,488\n        Identity-869           [-1, 2304, 7, 7]               0\nConv2dStaticSamePadding-870            [-1, 640, 7, 7]       1,474,560\n     BatchNorm2d-871            [-1, 640, 7, 7]           1,280\n     MBConvBlock-872            [-1, 640, 7, 7]               0\n        Identity-873            [-1, 640, 7, 7]               0\nConv2dStaticSamePadding-874           [-1, 3840, 7, 7]       2,457,600\n     BatchNorm2d-875           [-1, 3840, 7, 7]           7,680\nMemoryEfficientSwish-876           [-1, 3840, 7, 7]               0\n       ZeroPad2d-877           [-1, 3840, 9, 9]               0\nConv2dStaticSamePadding-878           [-1, 3840, 7, 7]          34,560\n     BatchNorm2d-879           [-1, 3840, 7, 7]           7,680\nMemoryEfficientSwish-880           [-1, 3840, 7, 7]               0\n        Identity-881           [-1, 3840, 1, 1]               0\nConv2dStaticSamePadding-882            [-1, 160, 1, 1]         614,560\nMemoryEfficientSwish-883            [-1, 160, 1, 1]               0\n        Identity-884            [-1, 160, 1, 1]               0\nConv2dStaticSamePadding-885           [-1, 3840, 1, 1]         618,240\n        Identity-886           [-1, 3840, 7, 7]               0\nConv2dStaticSamePadding-887            [-1, 640, 7, 7]       2,457,600\n     BatchNorm2d-888            [-1, 640, 7, 7]           1,280\n     MBConvBlock-889            [-1, 640, 7, 7]               0\n        Identity-890            [-1, 640, 7, 7]               0\nConv2dStaticSamePadding-891           [-1, 3840, 7, 7]       2,457,600\n     BatchNorm2d-892           [-1, 3840, 7, 7]           7,680\nMemoryEfficientSwish-893           [-1, 3840, 7, 7]               0\n       ZeroPad2d-894           [-1, 3840, 9, 9]               0\nConv2dStaticSamePadding-895           [-1, 3840, 7, 7]          34,560\n     BatchNorm2d-896           [-1, 3840, 7, 7]           7,680\nMemoryEfficientSwish-897           [-1, 3840, 7, 7]               0\n        Identity-898           [-1, 3840, 1, 1]               0\nConv2dStaticSamePadding-899            [-1, 160, 1, 1]         614,560\nMemoryEfficientSwish-900            [-1, 160, 1, 1]               0\n        Identity-901            [-1, 160, 1, 1]               0\nConv2dStaticSamePadding-902           [-1, 3840, 1, 1]         618,240\n        Identity-903           [-1, 3840, 7, 7]               0\nConv2dStaticSamePadding-904            [-1, 640, 7, 7]       2,457,600\n     BatchNorm2d-905            [-1, 640, 7, 7]           1,280\n     MBConvBlock-906            [-1, 640, 7, 7]               0\n        Identity-907            [-1, 640, 7, 7]               0\nConv2dStaticSamePadding-908           [-1, 3840, 7, 7]       2,457,600\n     BatchNorm2d-909           [-1, 3840, 7, 7]           7,680\nMemoryEfficientSwish-910           [-1, 3840, 7, 7]               0\n       ZeroPad2d-911           [-1, 3840, 9, 9]               0\nConv2dStaticSamePadding-912           [-1, 3840, 7, 7]          34,560\n     BatchNorm2d-913           [-1, 3840, 7, 7]           7,680\nMemoryEfficientSwish-914           [-1, 3840, 7, 7]               0\n        Identity-915           [-1, 3840, 1, 1]               0\nConv2dStaticSamePadding-916            [-1, 160, 1, 1]         614,560\nMemoryEfficientSwish-917            [-1, 160, 1, 1]               0\n        Identity-918            [-1, 160, 1, 1]               0\nConv2dStaticSamePadding-919           [-1, 3840, 1, 1]         618,240\n        Identity-920           [-1, 3840, 7, 7]               0\nConv2dStaticSamePadding-921            [-1, 640, 7, 7]       2,457,600\n     BatchNorm2d-922            [-1, 640, 7, 7]           1,280\n     MBConvBlock-923            [-1, 640, 7, 7]               0\n        Identity-924            [-1, 640, 7, 7]               0\nConv2dStaticSamePadding-925           [-1, 2560, 7, 7]       1,638,400\n     BatchNorm2d-926           [-1, 2560, 7, 7]           5,120\n        Identity-927           [-1, 2560, 7, 7]               0\nAdaptiveAvgPool2d-928           [-1, 2560, 1, 1]               0\nAdaptiveMaxPool2d-929           [-1, 2560, 1, 1]               0\n         Flatten-930                 [-1, 5120]               0\n     BatchNorm1d-931                 [-1, 5120]          10,240\n         Dropout-932                 [-1, 5120]               0\n          Linear-933                 [-1, 1024]       5,243,904\n     BatchNorm1d-934                 [-1, 1024]           2,048\n         Dropout-935                 [-1, 1024]               0\n          Linear-936                    [-1, 4]           4,100\n         Softmax-937                    [-1, 4]               0\n   ClassifierNew-938                    [-1, 4]               0\n================================================================\nTotal params: 69,047,252\nTrainable params: 38,349,508\nNon-trainable params: 30,697,744\n----------------------------------------------------------------\nInput size (MB): 0.57\nForward/backward pass size (MB): 1269.14\nParams size (MB): 263.39\nEstimated Total Size (MB): 1533.11\n----------------------------------------------------------------\n"
    }
   ],
   "source": [
    "from torchsummary import summary\n",
    "summary(model, (3,224, 224))"
   ]
  },
  {
   "cell_type": "code",
   "execution_count": 17,
   "metadata": {},
   "outputs": [
    {
     "name": "stdout",
     "output_type": "stream",
     "text": "False\nFalse\nFalse\nFalse\nFalse\nFalse\nFalse\nFalse\nFalse\nFalse\nFalse\nFalse\nFalse\nFalse\nFalse\nFalse\nFalse\nFalse\nFalse\nFalse\nFalse\nFalse\nFalse\nFalse\nFalse\nFalse\nFalse\nFalse\nFalse\nFalse\nFalse\nFalse\nFalse\nFalse\nFalse\nFalse\nFalse\nFalse\nFalse\nFalse\nFalse\nFalse\nFalse\nFalse\nFalse\nFalse\nFalse\nFalse\nFalse\nFalse\nFalse\nFalse\nFalse\nFalse\nFalse\nFalse\nFalse\nFalse\nFalse\nFalse\nFalse\nFalse\nFalse\nFalse\nFalse\nFalse\nFalse\nFalse\nFalse\nFalse\nFalse\nFalse\nFalse\nFalse\nFalse\nFalse\nFalse\nFalse\nFalse\nFalse\nFalse\nFalse\nFalse\nFalse\nFalse\nFalse\nFalse\nFalse\nFalse\nFalse\nFalse\nFalse\nFalse\nFalse\nFalse\nFalse\nFalse\nFalse\nFalse\nFalse\nFalse\nFalse\nFalse\nFalse\nFalse\nFalse\nFalse\nFalse\nFalse\nFalse\nFalse\nFalse\nFalse\nFalse\nFalse\nFalse\nFalse\nFalse\nFalse\nFalse\nFalse\nFalse\nFalse\nFalse\nFalse\nFalse\nFalse\nFalse\nFalse\nFalse\nFalse\nFalse\nFalse\nFalse\nFalse\nFalse\nFalse\nFalse\nFalse\nFalse\nFalse\nFalse\nFalse\nFalse\nFalse\nFalse\nFalse\nFalse\nFalse\nFalse\nFalse\nFalse\nFalse\nFalse\nFalse\nFalse\nFalse\nFalse\nFalse\nFalse\nFalse\nFalse\nFalse\nFalse\nFalse\nFalse\nFalse\nFalse\nFalse\nFalse\nFalse\nFalse\nFalse\nFalse\nFalse\nFalse\nFalse\nFalse\nFalse\nFalse\nFalse\nFalse\nFalse\nFalse\nFalse\nFalse\nFalse\nFalse\nFalse\nFalse\nFalse\nFalse\nFalse\nFalse\nFalse\nFalse\nFalse\nFalse\nFalse\nFalse\nFalse\nFalse\nFalse\nFalse\nFalse\nFalse\nFalse\nFalse\nFalse\nFalse\nFalse\nFalse\nFalse\nFalse\nFalse\nFalse\nFalse\nFalse\nFalse\nFalse\nFalse\nFalse\nFalse\nFalse\nFalse\nFalse\nFalse\nFalse\nFalse\nFalse\nFalse\nFalse\nFalse\nFalse\nFalse\nFalse\nFalse\nFalse\nFalse\nFalse\nFalse\nFalse\nFalse\nFalse\nFalse\nFalse\nFalse\nFalse\nFalse\nFalse\nFalse\nFalse\nFalse\nFalse\nFalse\nFalse\nFalse\nFalse\nFalse\nFalse\nFalse\nFalse\nFalse\nFalse\nFalse\nFalse\nFalse\nFalse\nFalse\nFalse\nFalse\nFalse\nFalse\nFalse\nFalse\nFalse\nFalse\nFalse\nFalse\nFalse\nFalse\nFalse\nFalse\nFalse\nFalse\nFalse\nFalse\nFalse\nFalse\nFalse\nFalse\nFalse\nFalse\nFalse\nFalse\nFalse\nFalse\nFalse\nFalse\nFalse\nFalse\nFalse\nFalse\nFalse\nFalse\nFalse\nFalse\nFalse\nFalse\nFalse\nFalse\nFalse\nFalse\nFalse\nFalse\nFalse\nFalse\nFalse\nFalse\nFalse\nFalse\nFalse\nFalse\nFalse\nFalse\nFalse\nFalse\nFalse\nFalse\nFalse\nFalse\nFalse\nFalse\nFalse\nFalse\nFalse\nFalse\nFalse\nFalse\nFalse\nFalse\nFalse\nFalse\nFalse\nFalse\nFalse\nFalse\nFalse\nFalse\nFalse\nFalse\nFalse\nFalse\nFalse\nFalse\nFalse\nFalse\nFalse\nFalse\nFalse\nFalse\nFalse\nFalse\nFalse\nFalse\nFalse\nFalse\nFalse\nFalse\nFalse\nFalse\nFalse\nFalse\nFalse\nFalse\nFalse\nFalse\nFalse\nFalse\nFalse\nFalse\nFalse\nFalse\nFalse\nFalse\nFalse\nFalse\nFalse\nFalse\nFalse\nFalse\nFalse\nFalse\nFalse\nFalse\nFalse\nFalse\nFalse\nFalse\nFalse\nFalse\nFalse\nFalse\nFalse\nFalse\nFalse\nFalse\nFalse\nFalse\nFalse\nFalse\nFalse\nFalse\nFalse\nFalse\nFalse\nFalse\nFalse\nFalse\nFalse\nFalse\nFalse\nFalse\nFalse\nFalse\nFalse\nFalse\nFalse\nFalse\nFalse\nFalse\nFalse\nFalse\nFalse\nFalse\nFalse\nFalse\nFalse\nFalse\nFalse\nFalse\nFalse\nFalse\nFalse\nFalse\nFalse\nFalse\nFalse\nFalse\nFalse\nFalse\nFalse\nFalse\nFalse\nFalse\nFalse\nFalse\nFalse\nFalse\nFalse\nFalse\nFalse\nFalse\nFalse\nFalse\nFalse\nFalse\nFalse\nFalse\nFalse\nFalse\nFalse\nFalse\nFalse\nFalse\nFalse\nFalse\nFalse\nFalse\nFalse\nFalse\nFalse\nFalse\nFalse\nFalse\nFalse\nFalse\nFalse\nFalse\nFalse\nFalse\nFalse\nFalse\nFalse\nFalse\nFalse\nFalse\nFalse\nFalse\nFalse\nFalse\nFalse\nFalse\nFalse\nFalse\nFalse\nFalse\nFalse\nFalse\nFalse\nFalse\nFalse\nFalse\nFalse\nFalse\nFalse\nFalse\nFalse\nFalse\nFalse\nFalse\nFalse\nFalse\nFalse\nFalse\nFalse\nFalse\nFalse\nFalse\nFalse\nFalse\nFalse\nFalse\nFalse\nFalse\nFalse\nFalse\nFalse\nFalse\nFalse\nFalse\nFalse\nFalse\nFalse\nFalse\nFalse\nFalse\nFalse\nFalse\nFalse\nFalse\nFalse\nFalse\nFalse\nFalse\nFalse\nFalse\nFalse\nFalse\nFalse\nFalse\nFalse\nFalse\nFalse\nFalse\nFalse\nFalse\nFalse\nFalse\nFalse\nFalse\nFalse\nFalse\nFalse\nFalse\nFalse\nFalse\nFalse\nFalse\nFalse\nFalse\nFalse\nFalse\nFalse\nFalse\nFalse\nFalse\nFalse\nFalse\nFalse\nFalse\nFalse\nFalse\nFalse\nFalse\nFalse\nFalse\nFalse\nFalse\nTrue\nTrue\nTrue\nTrue\nTrue\nTrue\nTrue\nTrue\nTrue\nTrue\nTrue\nTrue\nTrue\nTrue\nTrue\nTrue\nTrue\nTrue\nTrue\nTrue\nTrue\nTrue\nTrue\nTrue\nTrue\nTrue\nTrue\nTrue\nTrue\nTrue\nTrue\nTrue\nTrue\nTrue\nTrue\nTrue\nTrue\nTrue\nTrue\nTrue\nTrue\nTrue\nTrue\nTrue\nTrue\nTrue\nTrue\nTrue\nTrue\nTrue\nTrue\nTrue\nTrue\nTrue\nTrue\nTrue\nTrue\nTrue\nTrue\nTrue\nTrue\nTrue\nTrue\nTrue\nTrue\nTrue\nTrue\nTrue\nTrue\nTrue\nTrue\nTrue\nTrue\nTrue\nTrue\nTrue\nTrue\nTrue\nTrue\nTrue\nTrue\nTrue\nTrue\nTrue\nTrue\nTrue\nTrue\nTrue\nTrue\nTrue\nTrue\nTrue\nTrue\nTrue\nTrue\nTrue\nTrue\nTrue\nTrue\nTrue\nTrue\nTrue\nTrue\nTrue\nTrue\nTrue\nTrue\nTrue\nTrue\nTrue\nTrue\nTrue\nTrue\nTrue\nTrue\nTrue\nTrue\nTrue\n717\n"
    }
   ],
   "source": [
    "c =0 \n",
    "for i in model.parameters():\n",
    "    c+=1\n",
    "    print(i.requires_grad)\n",
    "print(c)"
   ]
  },
  {
   "cell_type": "code",
   "execution_count": null,
   "metadata": {},
   "outputs": [],
   "source": []
  }
 ]
}